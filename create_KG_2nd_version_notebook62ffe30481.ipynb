{
 "cells": [
  {
   "cell_type": "code",
   "execution_count": 1,
   "id": "fbfcecbc",
   "metadata": {
    "_cell_guid": "b1076dfc-b9ad-4769-8c92-a6c4dae69d19",
    "_uuid": "8f2839f25d086af736a60e9eeb907d3b93b6e0e5",
    "execution": {
     "iopub.execute_input": "2022-07-30T13:02:16.491666Z",
     "iopub.status.busy": "2022-07-30T13:02:16.487099Z",
     "iopub.status.idle": "2022-07-30T13:02:16.522136Z",
     "shell.execute_reply": "2022-07-30T13:02:16.520207Z"
    },
    "papermill": {
     "duration": 0.046318,
     "end_time": "2022-07-30T13:02:16.525345",
     "exception": false,
     "start_time": "2022-07-30T13:02:16.479027",
     "status": "completed"
    },
    "tags": []
   },
   "outputs": [
    {
     "name": "stdout",
     "output_type": "stream",
     "text": [
      "/kaggle/input/natural-language-processing-with-disaster-tweets/kaggle nlp/sample_submission.csv\n",
      "/kaggle/input/natural-language-processing-with-disaster-tweets/kaggle nlp/Natural Language Processing with Disaster Tweets (1).ipynb\n",
      "/kaggle/input/natural-language-processing-with-disaster-tweets/kaggle nlp/train.csv\n",
      "/kaggle/input/natural-language-processing-with-disaster-tweets/kaggle nlp/test.csv\n",
      "complete\n"
     ]
    }
   ],
   "source": [
    "# This Python 3 environment comes with many helpful analytics libraries installed\n",
    "# It is defined by the kaggle/python Docker image: https://github.com/kaggle/docker-python\n",
    "# For example, here's several helpful packages to load\n",
    "\n",
    "import numpy as np # linear algebra\n",
    "import pandas as pd # data processing, CSV file I/O (e.g. pd.read_csv)\n",
    "\n",
    "# Input data files are available in the read-only \"../input/\" directory\n",
    "# For example, running this (by clicking run or pressing Shift+Enter) will list all files under the input directory\n",
    "\n",
    "import os\n",
    "for dirname, _, filenames in os.walk('/kaggle/input'):\n",
    "    for filename in filenames:\n",
    "        print(os.path.join(dirname, filename))\n",
    "\n",
    "# You can write up to 20GB to the current directory (/kaggle/working/) that gets preserved as output when you create a version using \"Save & Run All\" \n",
    "# You can also write temporary files to /kaggle/temp/, but they won't be saved outside of the current session\n",
    "print(\"complete\")"
   ]
  },
  {
   "cell_type": "code",
   "execution_count": 2,
   "id": "33f0e9c4",
   "metadata": {
    "execution": {
     "iopub.execute_input": "2022-07-30T13:02:16.535954Z",
     "iopub.status.busy": "2022-07-30T13:02:16.535219Z",
     "iopub.status.idle": "2022-07-30T13:02:29.082240Z",
     "shell.execute_reply": "2022-07-30T13:02:29.080679Z"
    },
    "papermill": {
     "duration": 12.555352,
     "end_time": "2022-07-30T13:02:29.085127",
     "exception": false,
     "start_time": "2022-07-30T13:02:16.529775",
     "status": "completed"
    },
    "tags": []
   },
   "outputs": [
    {
     "name": "stdout",
     "output_type": "stream",
     "text": [
      "complete\n"
     ]
    }
   ],
   "source": [
    "import spacy\n",
    "import re\n",
    "import string\n",
    "from spacy.lang.en import English\n",
    "import networkx as nx\n",
    "import matplotlib.pyplot as plt\n",
    "import nltk\n",
    "def getSentences(text):\n",
    "    nlp = English()\n",
    "    #nlp.add_pipe(nlp.create_pipe('sentencizer'))\n",
    "    nlp.add_pipe('sentencizer')\n",
    "    document = nlp(text)\n",
    "    print(document)\n",
    "    #return [sent.string.strip() for sent in document.sents]\n",
    "    return [sent.text.strip() for sent in document.sents]\n",
    "\n",
    "\n",
    "def printToken(token):\n",
    "    print(token.text, \"->\", token.dep_)\n",
    "    \n",
    "def appendChunk(original, chunk):\n",
    "    return original + ' ' + chunk\n",
    "def isRelationCandidate(token):\n",
    "    deps = [\"ROOT\", \"adj\", \"attr\", \"agent\", \"amod\"]\n",
    "    return any(subs in token.dep_ for subs in deps)\n",
    "def isConstructionCandidate(token):\n",
    "    deps = [\"compound\", \"prep\", \"conj\", \"mod\"]\n",
    "    return any(subs in token.dep_ for subs in deps)\n",
    "def processSubjectObjectPairs(tokens):\n",
    "    subject = ''\n",
    "    object = ''\n",
    "    relation = ''\n",
    "    subjectConstruction = ''\n",
    "    objectConstruction = ''\n",
    "    for token in tokens:\n",
    "        printToken(token)\n",
    "        if \"punct\" in token.dep_:\n",
    "            continue\n",
    "        if isRelationCandidate(token):\n",
    "            relation = appendChunk(relation, token.lemma_)\n",
    "        if isConstructionCandidate(token):\n",
    "            if subjectConstruction:\n",
    "                subjectConstruction = appendChunk(subjectConstruction, token.text)\n",
    "            if objectConstruction:\n",
    "                objectConstruction = appendChunk(objectConstruction, token.text)\n",
    "        if \"subj\" in token.dep_:\n",
    "            subject = appendChunk(subject, token.text)\n",
    "            subject = appendChunk(subjectConstruction, subject)\n",
    "            subjectConstruction = ''\n",
    "        if \"obj\" in token.dep_:\n",
    "            object = appendChunk(object, token.text)\n",
    "            object = appendChunk(objectConstruction, object)\n",
    "            objectConstruction = ''\n",
    "            \n",
    "    print (subject.strip(), \",\", relation.strip(), \",\", object.strip())\n",
    "    return (subject.strip(), relation.strip(), object.strip())\n",
    "\n",
    "\n",
    "def processSentence(sentence):\n",
    "    tokens = nlp_model(sentence)\n",
    "    return processSubjectObjectPairs(tokens)\n",
    "print(\"complete\")"
   ]
  },
  {
   "cell_type": "code",
   "execution_count": 3,
   "id": "c39324b5",
   "metadata": {
    "execution": {
     "iopub.execute_input": "2022-07-30T13:02:29.095276Z",
     "iopub.status.busy": "2022-07-30T13:02:29.094449Z",
     "iopub.status.idle": "2022-07-30T13:02:29.140929Z",
     "shell.execute_reply": "2022-07-30T13:02:29.139163Z"
    },
    "papermill": {
     "duration": 0.054542,
     "end_time": "2022-07-30T13:02:29.143686",
     "exception": false,
     "start_time": "2022-07-30T13:02:29.089144",
     "status": "completed"
    },
    "tags": []
   },
   "outputs": [
    {
     "name": "stdout",
     "output_type": "stream",
     "text": [
      "complete\n"
     ]
    }
   ],
   "source": [
    "df_train = pd.read_csv('../input/natural-language-processing-with-disaster-tweets/kaggle nlp/train.csv', dtype={'id': np.int16, 'target': np.int8},nrows=100)\n",
    "df_test = pd.read_csv('../input/natural-language-processing-with-disaster-tweets/kaggle nlp/test.csv', dtype={'id': np.int16},nrows=100)\n",
    "print(\"complete\")"
   ]
  },
  {
   "cell_type": "code",
   "execution_count": 4,
   "id": "d3c0dc46",
   "metadata": {
    "execution": {
     "iopub.execute_input": "2022-07-30T13:02:29.153342Z",
     "iopub.status.busy": "2022-07-30T13:02:29.152892Z",
     "iopub.status.idle": "2022-07-30T13:02:29.176265Z",
     "shell.execute_reply": "2022-07-30T13:02:29.174881Z"
    },
    "papermill": {
     "duration": 0.031158,
     "end_time": "2022-07-30T13:02:29.178891",
     "exception": false,
     "start_time": "2022-07-30T13:02:29.147733",
     "status": "completed"
    },
    "tags": []
   },
   "outputs": [
    {
     "data": {
      "text/html": [
       "<div>\n",
       "<style scoped>\n",
       "    .dataframe tbody tr th:only-of-type {\n",
       "        vertical-align: middle;\n",
       "    }\n",
       "\n",
       "    .dataframe tbody tr th {\n",
       "        vertical-align: top;\n",
       "    }\n",
       "\n",
       "    .dataframe thead th {\n",
       "        text-align: right;\n",
       "    }\n",
       "</style>\n",
       "<table border=\"1\" class=\"dataframe\">\n",
       "  <thead>\n",
       "    <tr style=\"text-align: right;\">\n",
       "      <th></th>\n",
       "      <th>id</th>\n",
       "      <th>keyword</th>\n",
       "      <th>location</th>\n",
       "      <th>text</th>\n",
       "      <th>target</th>\n",
       "    </tr>\n",
       "  </thead>\n",
       "  <tbody>\n",
       "    <tr>\n",
       "      <th>0</th>\n",
       "      <td>1</td>\n",
       "      <td>NaN</td>\n",
       "      <td>NaN</td>\n",
       "      <td>Our Deeds are the Reason of this #earthquake M...</td>\n",
       "      <td>1</td>\n",
       "    </tr>\n",
       "    <tr>\n",
       "      <th>1</th>\n",
       "      <td>4</td>\n",
       "      <td>NaN</td>\n",
       "      <td>NaN</td>\n",
       "      <td>Forest fire near La Ronge Sask. Canada</td>\n",
       "      <td>1</td>\n",
       "    </tr>\n",
       "    <tr>\n",
       "      <th>2</th>\n",
       "      <td>5</td>\n",
       "      <td>NaN</td>\n",
       "      <td>NaN</td>\n",
       "      <td>All residents asked to 'shelter in place' are ...</td>\n",
       "      <td>1</td>\n",
       "    </tr>\n",
       "    <tr>\n",
       "      <th>3</th>\n",
       "      <td>6</td>\n",
       "      <td>NaN</td>\n",
       "      <td>NaN</td>\n",
       "      <td>13,000 people receive #wildfires evacuation or...</td>\n",
       "      <td>1</td>\n",
       "    </tr>\n",
       "    <tr>\n",
       "      <th>4</th>\n",
       "      <td>7</td>\n",
       "      <td>NaN</td>\n",
       "      <td>NaN</td>\n",
       "      <td>Just got sent this photo from Ruby #Alaska as ...</td>\n",
       "      <td>1</td>\n",
       "    </tr>\n",
       "  </tbody>\n",
       "</table>\n",
       "</div>"
      ],
      "text/plain": [
       "   id keyword location                                               text  \\\n",
       "0   1     NaN      NaN  Our Deeds are the Reason of this #earthquake M...   \n",
       "1   4     NaN      NaN             Forest fire near La Ronge Sask. Canada   \n",
       "2   5     NaN      NaN  All residents asked to 'shelter in place' are ...   \n",
       "3   6     NaN      NaN  13,000 people receive #wildfires evacuation or...   \n",
       "4   7     NaN      NaN  Just got sent this photo from Ruby #Alaska as ...   \n",
       "\n",
       "   target  \n",
       "0       1  \n",
       "1       1  \n",
       "2       1  \n",
       "3       1  \n",
       "4       1  "
      ]
     },
     "execution_count": 4,
     "metadata": {},
     "output_type": "execute_result"
    }
   ],
   "source": [
    "df_train.head()"
   ]
  },
  {
   "cell_type": "code",
   "execution_count": 5,
   "id": "9c73794b",
   "metadata": {
    "execution": {
     "iopub.execute_input": "2022-07-30T13:02:29.189008Z",
     "iopub.status.busy": "2022-07-30T13:02:29.188564Z",
     "iopub.status.idle": "2022-07-30T13:02:29.200270Z",
     "shell.execute_reply": "2022-07-30T13:02:29.198490Z"
    },
    "papermill": {
     "duration": 0.02111,
     "end_time": "2022-07-30T13:02:29.204297",
     "exception": false,
     "start_time": "2022-07-30T13:02:29.183187",
     "status": "completed"
    },
    "tags": []
   },
   "outputs": [
    {
     "name": "stdout",
     "output_type": "stream",
     "text": [
      "complete\n"
     ]
    }
   ],
   "source": [
    "def printGraph(triples):\n",
    "    G = nx.Graph()\n",
    "    for triple in triples:\n",
    "        G.add_node(triple[0])\n",
    "        G.add_node(triple[1])\n",
    "        G.add_node(triple[2])\n",
    "        G.add_edge(triple[0], triple[1])\n",
    "        G.add_edge(triple[1], triple[2])\n",
    "\n",
    "    pos = nx.spring_layout(G,k=2, iterations=50)\n",
    "    plt.figure(figsize=(10, 10))\n",
    "    nx.draw(G, pos, edge_color='black', width=1, linewidths=1,\n",
    "            node_size=5000, node_color='lightblue', alpha=0.9,font_size=10,\n",
    "            labels={node: node for node in G.nodes()})\n",
    "    plt.axis('off')\n",
    "    plt.show()\n",
    "print(\"complete\")"
   ]
  },
  {
   "cell_type": "code",
   "execution_count": 6,
   "id": "11b7f2cd",
   "metadata": {
    "execution": {
     "iopub.execute_input": "2022-07-30T13:02:29.216641Z",
     "iopub.status.busy": "2022-07-30T13:02:29.215970Z",
     "iopub.status.idle": "2022-07-30T13:02:29.247525Z",
     "shell.execute_reply": "2022-07-30T13:02:29.245823Z"
    },
    "papermill": {
     "duration": 0.04119,
     "end_time": "2022-07-30T13:02:29.250873",
     "exception": false,
     "start_time": "2022-07-30T13:02:29.209683",
     "status": "completed"
    },
    "tags": []
   },
   "outputs": [
    {
     "name": "stdout",
     "output_type": "stream",
     "text": [
      "complete\n"
     ]
    }
   ],
   "source": [
    "def clean_text(x):\n",
    "    text = re.sub('(\\d+)','',x)   \n",
    "    text = text.lower()\n",
    "    return text\n",
    "def remove_url(x):\n",
    "    text = re.sub('(https?:\\/\\/)?([\\da-z\\.-]+)\\.([a-z\\.]{2,6})\\/([a-zA-Z0-9_]+]*)',' ',x)\n",
    "    return text\n",
    "def remove_punct(x):\n",
    "    text_without_puct = [t for t in x if t not in string.punctuation]\n",
    "    text_without_puct = ''.join(text_without_puct)\n",
    "    return text_without_puct\n",
    "stop_words = nltk.corpus.stopwords.words('english')\n",
    "from nltk.corpus import stopwords\n",
    "stop = stopwords.words('english')\n",
    "\n",
    "df_train['text'] = df_train['text'].apply(clean_text)\n",
    "df_train['text'] = df_train['text'].apply(remove_url)\n",
    "df_train['text'] = df_train['text'].apply(remove_punct)\n",
    "df_train['text'] = df_train['text'].apply(lambda x: ' '.join([word for word in x.split() if word not in (stop)]))\n",
    "\n",
    "print(\"complete\")"
   ]
  },
  {
   "cell_type": "code",
   "execution_count": 7,
   "id": "8ebf340a",
   "metadata": {
    "execution": {
     "iopub.execute_input": "2022-07-30T13:02:29.262095Z",
     "iopub.status.busy": "2022-07-30T13:02:29.261567Z",
     "iopub.status.idle": "2022-07-30T13:02:29.269240Z",
     "shell.execute_reply": "2022-07-30T13:02:29.267532Z"
    },
    "papermill": {
     "duration": 0.016842,
     "end_time": "2022-07-30T13:02:29.272362",
     "exception": false,
     "start_time": "2022-07-30T13:02:29.255520",
     "status": "completed"
    },
    "tags": []
   },
   "outputs": [
    {
     "name": "stdout",
     "output_type": "stream",
     "text": [
      "complete\n"
     ]
    }
   ],
   "source": [
    "text = df_train['text'].tolist()\n",
    "read_1 = text[:10]\n",
    "read_1\n",
    "\n",
    "print(\"complete\")"
   ]
  },
  {
   "cell_type": "code",
   "execution_count": 8,
   "id": "fd54463c",
   "metadata": {
    "execution": {
     "iopub.execute_input": "2022-07-30T13:02:29.283581Z",
     "iopub.status.busy": "2022-07-30T13:02:29.283170Z",
     "iopub.status.idle": "2022-07-30T13:02:30.716542Z",
     "shell.execute_reply": "2022-07-30T13:02:30.714608Z"
    },
    "papermill": {
     "duration": 1.442372,
     "end_time": "2022-07-30T13:02:30.719309",
     "exception": false,
     "start_time": "2022-07-30T13:02:29.276937",
     "status": "completed"
    },
    "tags": []
   },
   "outputs": [
    {
     "name": "stdout",
     "output_type": "stream",
     "text": [
      "deeds reason earthquake may allah forgive us\n",
      "deeds reason earthquake may allah forgive us\n",
      "deeds -> nsubj\n",
      "reason -> compound\n",
      "earthquake -> dobj\n",
      "may -> aux\n",
      "allah -> nsubj\n",
      "forgive -> ROOT\n",
      "us -> dobj\n",
      "deeds allah , forgive , earthquake us\n",
      "complete\n"
     ]
    }
   ],
   "source": [
    "if __name__ == \"__main__\":\n",
    "    \n",
    "    text = 'deeds reason earthquake may allah forgive us'\n",
    "\n",
    "    sentences = getSentences(text)\n",
    "    nlp_model = spacy.load('en_core_web_sm')\n",
    "\n",
    "    triples = []\n",
    "    print (text)\n",
    "    for sentence in sentences:\n",
    "        triples.append(processSentence(sentence))\n",
    "\n",
    "print(\"complete\")"
   ]
  },
  {
   "cell_type": "code",
   "execution_count": 9,
   "id": "b3784337",
   "metadata": {
    "execution": {
     "iopub.execute_input": "2022-07-30T13:02:30.731245Z",
     "iopub.status.busy": "2022-07-30T13:02:30.730752Z",
     "iopub.status.idle": "2022-07-30T13:02:30.976617Z",
     "shell.execute_reply": "2022-07-30T13:02:30.974742Z"
    },
    "papermill": {
     "duration": 0.256911,
     "end_time": "2022-07-30T13:02:30.980951",
     "exception": false,
     "start_time": "2022-07-30T13:02:30.724040",
     "status": "completed"
    },
    "tags": []
   },
   "outputs": [
    {
     "data": {
      "image/png": "[encoded data removed]",
      "text/plain": [
       "<Figure size 720x720 with 1 Axes>"
      ]
     },
     "metadata": {},
     "output_type": "display_data"
    },
    {
     "name": "stdout",
     "output_type": "stream",
     "text": [
      "complete\n"
     ]
    }
   ],
   "source": [
    "printGraph(triples)\n",
    "\n",
    "print(\"complete\")"
   ]
  }
 ],
 "metadata": {
  "kernelspec": {
   "display_name": "Python 3",
   "language": "python",
   "name": "python3"
  },
  "language_info": {
   "codemirror_mode": {
    "name": "ipython",
    "version": 3
   },
   "file_extension": ".py",
   "mimetype": "text/x-python",
   "name": "python",
   "nbconvert_exporter": "python",
   "pygments_lexer": "ipython3",
   "version": "3.7.12"
  },
  "papermill": {
   "default_parameters": {},
   "duration": 27.747172,
   "end_time": "2022-07-30T13:02:33.839871",
   "environment_variables": {},
   "exception": null,
   "input_path": "__notebook__.ipynb",
   "output_path": "__notebook__.ipynb",
   "parameters": {},
   "start_time": "2022-07-30T13:02:06.092699",
   "version": "2.3.4"
  }
 },
 "nbformat": 4,
 "nbformat_minor": 5
}
